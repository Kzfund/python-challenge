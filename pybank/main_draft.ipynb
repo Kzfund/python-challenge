{
 "cells": [
  {
   "cell_type": "code",
   "execution_count": 9,
   "id": "d3606206-e56e-4a79-9811-4dfb3a33f167",
   "metadata": {
    "tags": []
   },
   "outputs": [],
   "source": [
    "import pandas as pd\n",
    "from pathlib import Path"
   ]
  },
  {
   "cell_type": "code",
   "execution_count": 10,
   "id": "d5b74643-1557-43bf-bdd3-4553d0e95827",
   "metadata": {
    "tags": []
   },
   "outputs": [],
   "source": [
    "csvpath = Path(\"../pybank/budget_data.csv\")"
   ]
  },
  {
   "cell_type": "code",
   "execution_count": 11,
   "id": "08b6ceec-7b21-4751-a715-a17c9b4b51f2",
   "metadata": {
    "tags": []
   },
   "outputs": [],
   "source": [
    "df = pd.read_csv(csvpath)"
   ]
  },
  {
   "cell_type": "code",
   "execution_count": 12,
   "id": "2e3d4a9e-c03a-4ec6-a00d-3528cab9e6d2",
   "metadata": {
    "tags": []
   },
   "outputs": [
    {
     "data": {
      "text/html": [
       "<div>\n",
       "<style scoped>\n",
       "    .dataframe tbody tr th:only-of-type {\n",
       "        vertical-align: middle;\n",
       "    }\n",
       "\n",
       "    .dataframe tbody tr th {\n",
       "        vertical-align: top;\n",
       "    }\n",
       "\n",
       "    .dataframe thead th {\n",
       "        text-align: right;\n",
       "    }\n",
       "</style>\n",
       "<table border=\"1\" class=\"dataframe\">\n",
       "  <thead>\n",
       "    <tr style=\"text-align: right;\">\n",
       "      <th></th>\n",
       "      <th>Date</th>\n",
       "      <th>Profit/Losses</th>\n",
       "    </tr>\n",
       "  </thead>\n",
       "  <tbody>\n",
       "    <tr>\n",
       "      <th>0</th>\n",
       "      <td>Jan-2010</td>\n",
       "      <td>867884</td>\n",
       "    </tr>\n",
       "    <tr>\n",
       "      <th>1</th>\n",
       "      <td>Feb-2010</td>\n",
       "      <td>984655</td>\n",
       "    </tr>\n",
       "    <tr>\n",
       "      <th>2</th>\n",
       "      <td>Mar-2010</td>\n",
       "      <td>322013</td>\n",
       "    </tr>\n",
       "    <tr>\n",
       "      <th>3</th>\n",
       "      <td>Apr-2010</td>\n",
       "      <td>-69417</td>\n",
       "    </tr>\n",
       "    <tr>\n",
       "      <th>4</th>\n",
       "      <td>May-2010</td>\n",
       "      <td>310503</td>\n",
       "    </tr>\n",
       "  </tbody>\n",
       "</table>\n",
       "</div>"
      ],
      "text/plain": [
       "       Date  Profit/Losses\n",
       "0  Jan-2010         867884\n",
       "1  Feb-2010         984655\n",
       "2  Mar-2010         322013\n",
       "3  Apr-2010         -69417\n",
       "4  May-2010         310503"
      ]
     },
     "execution_count": 12,
     "metadata": {},
     "output_type": "execute_result"
    }
   ],
   "source": [
    "df.head()"
   ]
  },
  {
   "cell_type": "code",
   "execution_count": 13,
   "id": "4d6e397e-960d-40e1-97e9-e6114cf80bb8",
   "metadata": {
    "tags": []
   },
   "outputs": [
    {
     "data": {
      "text/plain": [
       "-662642"
      ]
     },
     "execution_count": 13,
     "metadata": {},
     "output_type": "execute_result"
    }
   ],
   "source": [
    "df.iloc[2,1] - df.iloc[1,1]"
   ]
  },
  {
   "cell_type": "code",
   "execution_count": 14,
   "id": "dd3cf0e3-244e-4cdc-86d7-8c50e260dd40",
   "metadata": {
    "tags": []
   },
   "outputs": [
    {
     "data": {
      "text/plain": [
       "86"
      ]
     },
     "execution_count": 14,
     "metadata": {},
     "output_type": "execute_result"
    }
   ],
   "source": [
    "len(df.index)"
   ]
  },
  {
   "cell_type": "code",
   "execution_count": 15,
   "id": "196ca68b-fa4c-442e-9932-878b8a8e23a9",
   "metadata": {
    "tags": []
   },
   "outputs": [],
   "source": [
    "net = df['Profit/Losses'].sum()"
   ]
  },
  {
   "cell_type": "code",
   "execution_count": 16,
   "id": "dc3a9b16-5848-4bc1-905b-18657564743f",
   "metadata": {
    "tags": []
   },
   "outputs": [],
   "source": [
    "df['shifted_column'] = df['Profit/Losses'].shift(1)"
   ]
  },
  {
   "cell_type": "code",
   "execution_count": 17,
   "id": "eeffce89-7d17-4d04-a489-565fce70e17b",
   "metadata": {
    "tags": []
   },
   "outputs": [],
   "source": [
    "df['difference'] = df['Profit/Losses'] -df['shifted_column']"
   ]
  },
  {
   "cell_type": "code",
   "execution_count": 23,
   "id": "4299e39c-3c1a-4dd9-ac97-f4805704538c",
   "metadata": {
    "tags": []
   },
   "outputs": [
    {
     "data": {
      "text/plain": [
       "-2288.1976744186045"
      ]
     },
     "execution_count": 23,
     "metadata": {},
     "output_type": "execute_result"
    }
   ],
   "source": [
    "(df['Profit/Losses'].diff()).sum()/86"
   ]
  },
  {
   "cell_type": "code",
   "execution_count": 10,
   "id": "4cd367df-8643-4783-8970-12a896856ece",
   "metadata": {
    "tags": []
   },
   "outputs": [],
   "source": [
    "average = df['difference'].mean()"
   ]
  },
  {
   "cell_type": "code",
   "execution_count": 12,
   "id": "d2bd327b-39a9-4332-a43d-21741585c660",
   "metadata": {
    "tags": []
   },
   "outputs": [],
   "source": [
    "maximum = df['difference'].max()\n",
    "minimum = df['difference'].min()"
   ]
  },
  {
   "cell_type": "code",
   "execution_count": 13,
   "id": "3fdc600a-de83-47a9-8ec3-1f32d0b5639d",
   "metadata": {
    "tags": []
   },
   "outputs": [
    {
     "data": {
      "text/plain": [
       "25"
      ]
     },
     "execution_count": 13,
     "metadata": {},
     "output_type": "execute_result"
    }
   ],
   "source": [
    "df['difference'].idxmax()"
   ]
  },
  {
   "cell_type": "code",
   "execution_count": 50,
   "id": "b87336df-241d-47bb-924f-f1ab2659ea74",
   "metadata": {
    "tags": []
   },
   "outputs": [],
   "source": [
    "Greatest_increase=df.iloc[df['difference'].idxmax(), df.columns.get_loc('Date')]"
   ]
  },
  {
   "cell_type": "code",
   "execution_count": 58,
   "id": "cc58643c-4cee-4825-9640-60bb8407018b",
   "metadata": {
    "tags": []
   },
   "outputs": [],
   "source": [
    "Greatest_decrease = df.iloc[df['difference'].idxmin(), df.columns.get_loc('Date')]"
   ]
  },
  {
   "cell_type": "code",
   "execution_count": 59,
   "id": "34d3c232-1b52-4f36-88cd-d15f94a55461",
   "metadata": {
    "tags": []
   },
   "outputs": [
    {
     "name": "stdout",
     "output_type": "stream",
     "text": [
      "Financial analysis\n",
      "----------------------------\n",
      "Total Months: 86\n",
      "Total: $38382578\n",
      "Average Change: $-2315.12\n",
      "Greatest Increase in Profits:Feb-2012 ($1926159.0)\n",
      "Greatest Decrease in Profits:Sep-2013 ($-2196167.0)\n"
     ]
    }
   ],
   "source": [
    "print(\"Financial analysis\")\n",
    "print(\"----------------------------\")\n",
    "print(\"Total Months: \" + str(len(df.index)))\n",
    "print(\"Total: $\" + str(net))\n",
    "print(\"Average Change: $%.2f\" %average)\n",
    "print(\"Greatest Increase in Profits:\" + Greatest_increase + \" ($\"+ str(maximum)+\")\")\n",
    "print(\"Greatest Decrease in Profits:\" + Greatest_decrease + \" ($\"+ str(minimum)+\")\")"
   ]
  },
  {
   "cell_type": "code",
   "execution_count": null,
   "id": "d1dd8eb0-af94-438e-930b-20a7fb5481f1",
   "metadata": {},
   "outputs": [],
   "source": []
  },
  {
   "cell_type": "code",
   "execution_count": null,
   "id": "92d9bfad-e585-4c55-9bc2-f39c6a99b3de",
   "metadata": {},
   "outputs": [],
   "source": []
  },
  {
   "cell_type": "code",
   "execution_count": null,
   "id": "880232ab-fd9d-4aad-b344-7f00d794bc17",
   "metadata": {},
   "outputs": [],
   "source": []
  },
  {
   "cell_type": "code",
   "execution_count": null,
   "id": "62ab2ee1-f687-46ba-bef7-47d8304bc3b6",
   "metadata": {},
   "outputs": [],
   "source": []
  }
 ],
 "metadata": {
  "kernelspec": {
   "display_name": "Python 3 (ipykernel)",
   "language": "python",
   "name": "python3"
  },
  "language_info": {
   "codemirror_mode": {
    "name": "ipython",
    "version": 3
   },
   "file_extension": ".py",
   "mimetype": "text/x-python",
   "name": "python",
   "nbconvert_exporter": "python",
   "pygments_lexer": "ipython3",
   "version": "3.11.4"
  }
 },
 "nbformat": 4,
 "nbformat_minor": 5
}
