{
 "cells": [
  {
   "cell_type": "code",
   "execution_count": 1,
   "id": "ac46498e-992d-4900-b8a2-99e760c4c28d",
   "metadata": {
    "tags": []
   },
   "outputs": [],
   "source": [
    "import csv"
   ]
  },
  {
   "cell_type": "code",
   "execution_count": 2,
   "id": "1da2cb91-c3e6-4573-8cbc-535d01e90753",
   "metadata": {
    "tags": []
   },
   "outputs": [],
   "source": [
    "file = 'budget_data.csv'"
   ]
  },
  {
   "cell_type": "code",
   "execution_count": 3,
   "id": "84d73ada-85c5-4489-a4e2-40c3d470a176",
   "metadata": {
    "tags": []
   },
   "outputs": [],
   "source": [
    "total_months = 0\n",
    "month_of_change = []\n",
    "net_change_list = []\n",
    "greatest_inc = ['',0]\n",
    "greatest_dec = ['',9999999]\n",
    "total_net = 0"
   ]
  },
  {
   "cell_type": "code",
   "execution_count": 4,
   "id": "214ab861-3643-42b1-9dec-aad9808092eb",
   "metadata": {
    "tags": []
   },
   "outputs": [
    {
     "data": {
      "text/plain": [
       "True"
      ]
     },
     "execution_count": 4,
     "metadata": {},
     "output_type": "execute_result"
    }
   ],
   "source": [
    "1 > greatest_inc[1]"
   ]
  },
  {
   "cell_type": "code",
   "execution_count": 5,
   "id": "61f930cc-0aaf-417f-90ff-4e507b37513b",
   "metadata": {
    "tags": []
   },
   "outputs": [],
   "source": [
    "with open(file) as f:\n",
    "    reader = csv.reader(f)\n",
    "    header = next(reader)\n",
    "    # print(header)\n",
    "    first_row = next(reader)\n",
    "    # print(firs_row)\n",
    "    total_months = total_months+1\n",
    "    total_net = total_net + int(first_row[1])\n",
    "    prev_net = int(first_row[1])\n",
    "    for i in reader:\n",
    "        total_months= total_months+1\n",
    "        total_net = total_net + int(i[1])\n",
    "        \n",
    "        net_change = int(i[1]) - prev_net\n",
    "        prev_net = int(i[1])\n",
    "        net_change_list = net_change_list + [net_change]\n",
    "        month_of_change = month_of_change + [i[0]]\n",
    "        \n",
    "        if net_change > greatest_inc[1]:\n",
    "            greatest_inc[0] = i[0]\n",
    "            greatest_inc[1] = net_change\n",
    "        if net_change < greatest_dec[1]:\n",
    "            greatest_dec[0] = i[0]\n",
    "            greatest_dec[1] = net_change\n",
    "    "
   ]
  },
  {
   "cell_type": "code",
   "execution_count": 7,
   "id": "a1d4300f-415d-4c47-a4f3-e448582cd7b2",
   "metadata": {
    "tags": []
   },
   "outputs": [
    {
     "data": {
      "text/plain": [
       "-2288.2"
      ]
     },
     "execution_count": 7,
     "metadata": {},
     "output_type": "execute_result"
    }
   ],
   "source": [
    "net_monthly = round(sum(net_change_list)/total_months,2)\n",
    "net_monthly"
   ]
  },
  {
   "cell_type": "code",
   "execution_count": 7,
   "id": "319edbb6",
   "metadata": {
    "tags": []
   },
   "outputs": [
    {
     "data": {
      "text/plain": [
       "-2288.2"
      ]
     },
     "execution_count": 7,
     "metadata": {},
     "output_type": "execute_result"
    }
   ],
   "source": [
    "net_monthly = round(sum(net_change_list)/total_months,2)\n",
    "net_monthly"
   ]
  },
  {
   "cell_type": "code",
   "execution_count": null,
   "id": "a1582790-c9da-4417-98bd-5f78488fcff3",
   "metadata": {},
   "outputs": [],
   "source": []
  },
  {
   "cell_type": "code",
   "execution_count": 13,
   "id": "e1a53d66-f09a-4771-b0e5-6cc9b127509e",
   "metadata": {
    "tags": []
   },
   "outputs": [],
   "source": [
    "output_file = 'main.txt'"
   ]
  },
  {
   "cell_type": "code",
   "execution_count": 24,
   "id": "ebde9d6d-cb10-4493-8ae3-22eaf88d7e7d",
   "metadata": {
    "tags": []
   },
   "outputs": [],
   "source": [
    "with open(output_file, 'w') as out_f:\n",
    "    out_f.write('Financial Analysis\\n')\n",
    "    out_f.write(\"----------------------------\\n\")\n",
    "    out_f.write(f'Total Months: {total_months}\\n')\n",
    "    out_f.write(f'Total: ${total_net}\\n')\n",
    "    out_f.write(f'Average Change: ${net_monthly}\\n')\n",
    "    out_f.write(f'Greatest Increase in Profits: {greatest_inc[0]} (${greatest_inc[1]})\\n')\n",
    "    out_f.write(f'Greatest Decrease in Profits: {greatest_dec[0]} (${greatest_dec[1]})')\n"
   ]
  },
  {
   "cell_type": "code",
   "execution_count": 22,
   "id": "3400aa1c-ca7c-4f23-8df9-e5712f64b1a4",
   "metadata": {
    "tags": []
   },
   "outputs": [
    {
     "name": "stdout",
     "output_type": "stream",
     "text": [
      "library[\"python\"]\n"
     ]
    }
   ],
   "source": [
    "print(f'library[\"python\"]')"
   ]
  },
  {
   "cell_type": "code",
   "execution_count": null,
   "id": "bba0128e-98ed-4e07-95f3-04ed3ff0f646",
   "metadata": {},
   "outputs": [],
   "source": []
  }
 ],
 "metadata": {
  "kernelspec": {
   "display_name": "Python 3 (ipykernel)",
   "language": "python",
   "name": "python3"
  },
  "language_info": {
   "codemirror_mode": {
    "name": "ipython",
    "version": 3
   },
   "file_extension": ".py",
   "mimetype": "text/x-python",
   "name": "python",
   "nbconvert_exporter": "python",
   "pygments_lexer": "ipython3",
   "version": "3.11.4"
  }
 },
 "nbformat": 4,
 "nbformat_minor": 5
}
