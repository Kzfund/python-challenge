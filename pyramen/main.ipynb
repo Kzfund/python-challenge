{
 "cells": [
  {
   "cell_type": "code",
   "execution_count": 8,
   "id": "f50e6308-00e8-40d4-b803-becc0a44411a",
   "metadata": {
    "tags": []
   },
   "outputs": [],
   "source": [
    "import pandas as pd\n",
    "from pathlib import Path"
   ]
  },
  {
   "cell_type": "code",
   "execution_count": 9,
   "id": "05fdf457-4478-4d83-8f4e-56ec7a0d6e9d",
   "metadata": {
    "tags": []
   },
   "outputs": [],
   "source": [
    "menu_path = Path(\"../Instructions/PyRamen/Resources/menu_data.csv\")\n",
    "sales_path = Path(\"../Instructions/PyRamen/Resources/sales_data.csv\")"
   ]
  },
  {
   "cell_type": "code",
   "execution_count": 10,
   "id": "85832079-1e0f-428f-965d-b433468753ec",
   "metadata": {
    "tags": []
   },
   "outputs": [
    {
     "ename": "AttributeError",
     "evalue": "'WindowsPath' object has no attribute 'head'",
     "output_type": "error",
     "traceback": [
      "\u001b[1;31m---------------------------------------------------------------------------\u001b[0m",
      "\u001b[1;31mAttributeError\u001b[0m                            Traceback (most recent call last)",
      "Cell \u001b[1;32mIn[10], line 1\u001b[0m\n\u001b[1;32m----> 1\u001b[0m menu_path\u001b[38;5;241m.\u001b[39mhead()\n",
      "\u001b[1;31mAttributeError\u001b[0m: 'WindowsPath' object has no attribute 'head'"
     ]
    }
   ],
   "source": [
    "menu_path.head()"
   ]
  },
  {
   "cell_type": "code",
   "execution_count": null,
   "id": "1d2e2628-e0f5-40cb-92ef-6d55a023136d",
   "metadata": {},
   "outputs": [],
   "source": []
  }
 ],
 "metadata": {
  "kernelspec": {
   "display_name": "Python 3 (ipykernel)",
   "language": "python",
   "name": "python3"
  },
  "language_info": {
   "codemirror_mode": {
    "name": "ipython",
    "version": 3
   },
   "file_extension": ".py",
   "mimetype": "text/x-python",
   "name": "python",
   "nbconvert_exporter": "python",
   "pygments_lexer": "ipython3",
   "version": "3.11.4"
  }
 },
 "nbformat": 4,
 "nbformat_minor": 5
}
